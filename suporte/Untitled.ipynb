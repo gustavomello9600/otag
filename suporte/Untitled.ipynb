{
 "cells": [
  {
   "cell_type": "code",
   "execution_count": 50,
   "metadata": {},
   "outputs": [
    {
     "data": {
      "text/plain": [
       "619f: 0.00 ('0101010111'...)"
      ]
     },
     "execution_count": 50,
     "metadata": {},
     "output_type": "execute_result"
    }
   ],
   "source": [
    "import uuid\n",
    "import numpy as np\n",
    "\n",
    "np.random.seed(0)\n",
    "\n",
    "class Indivíduo:\n",
    "    \n",
    "    def __init__(self, gene, nome=\"\"):\n",
    "        self.gene = gene\n",
    "        if nome == \"\":\n",
    "            self.nome = str(uuid.uuid4())[:4]\n",
    "        else:\n",
    "            self.nome = nome\n",
    "            \n",
    "        self.adaptação         = 0\n",
    "        self.adaptação_testada = False\n",
    "            \n",
    "    def __repr__(self):\n",
    "        return \"{}: {:.2f} ({}...)\".format(self.nome, self.adaptação, (self.gene).__repr__()[:15])\n",
    "    \n",
    "    def __gt__(self, other):\n",
    "        return self.adaptação  > other.adaptação\n",
    "    \n",
    "    def __lt__(self, other):\n",
    "        return self.adaptação  < other.adaptação\n",
    "    \n",
    "    def __eq__(self, other):\n",
    "        return self.adaptação == other.adaptação\n",
    "    \n",
    "    #Sobrescrever\n",
    "    def construir_fenótipo():\n",
    "        self.fenótipo = None\n",
    "    \n",
    "Indivíduo(\"0101010111\")"
   ]
  },
  {
   "cell_type": "code",
   "execution_count": 55,
   "metadata": {},
   "outputs": [
    {
     "name": "stdout",
     "output_type": "stream",
     "text": [
      "None\n"
     ]
    }
   ],
   "source": [
    "class População:\n",
    "    \n",
    "    genes_testados = dict()\n",
    "    \n",
    "    def __init__(self, indivíduos=None):\n",
    "        if indivíduos is None:\n",
    "            indivíduos = self.geração_0()\n",
    "            \n",
    "        self.geração    = 0\n",
    "        self.indivíduos = indivíduos\n",
    "        self.gerações   = [indivíduos]\n",
    "        self.n          = len(indivíduos)\n",
    "        self.mutações   = []\n",
    "        \n",
    "        \n",
    "    def próxima_geração(self):\n",
    "        self.geração += 1\n",
    "        \n",
    "        indivíduos_selecionados = self.seleção_natural()\n",
    "        nova_geração            = self.reprodução(indivíduos_selecionados)\n",
    "        nova_geração            = self.mutação(nova_geração)\n",
    "        \n",
    "        self.gerações.append(nova_geração)\n",
    "        self.indivíduos = nova_geração\n",
    "        \n",
    "        return self\n",
    "        \n",
    "    def seleção_natural(self):\n",
    "        for ind in self.indivíduos:\n",
    "            if not ind.adaptação_testada:\n",
    "                self.conseguir_adaptação(ind)\n",
    "                \n",
    "        return sorted(self.indivíduos, reverse=True)[:self.n//2]\n",
    "        \n",
    "    def conseguir_adaptação(self, ind):\n",
    "        if ind.gene in self.genes_testados.keys():\n",
    "            ind.adaptação = self.genes_testados[ind.gene]\n",
    "        else:\n",
    "            self.testar_adaptação(ind)\n",
    "            self.genes_testados[ind.gene] = ind.adaptação\n",
    "        \n",
    "        ind.adaptação_testada = True\n",
    "        \n",
    "    def reprodução(self, inds):\n",
    "        nova_geração = inds\n",
    "        \n",
    "        pesos = np.array([i.adaptação for i in inds])\n",
    "        pas   = probabilides_acumuladas = np.cumsum(pesos)/sum(pesos)\n",
    "        \n",
    "        for _ in range(self.n - len(inds)):\n",
    "            p1   = np.random.random()\n",
    "            ind1 = inds[np.argmax(pas > p1)]\n",
    "            \n",
    "            ind2 = ind1\n",
    "            while ind1 is ind2:\n",
    "                p2   = np.random.random()\n",
    "                ind2 = inds[np.argmax(pas > p2)]\n",
    "                \n",
    "            ind_filho = self.crossover(ind1, ind2)\n",
    "            nova_geração.append(ind_filho)\n",
    "            \n",
    "        return nova_geração\n",
    "            \n",
    "    #Sobrescrever\n",
    "    def crossover(self, ind1, ind2):\n",
    "        k1, k2 = np.random.randint(1, 8, (2,))\n",
    "        \n",
    "        while k1 == k2:\n",
    "            k2 = np.random.randint(1, 8, (1,))\n",
    "            \n",
    "        kmax, kmin = int(max(k1, k2)), int(min(k1, k2))\n",
    "        \n",
    "        return Indivíduo(ind1.gene[:kmin] + ind2.gene[kmin:kmax] + ind1.gene[kmax:])     \n",
    "    \n",
    "    #Sobrescrever\n",
    "    def mutação(self, g):\n",
    "        for ind in g:\n",
    "            mutated = False\n",
    "            for i, b in enumerate(ind.gene):\n",
    "                p = np.random.random()\n",
    "                if p < 0.01:\n",
    "                    mutated = True\n",
    "                    ind.gene = ind.gene[:i] + (\"0\" if ind.gene[i] == \"1\" else \"1\") + ind.gene[i + 1:]\n",
    "            if mutated:\n",
    "                ind.adaptação_testada = False\n",
    "                self.mutações.append(\"Indivíduo {} indo para a geração {}\".format(\n",
    "                                     ind.nome, self.geração - 1))\n",
    "                \n",
    "                \n",
    "        \n",
    "    #Sobrescrever\n",
    "    def testar_adaptação(self, ind):\n",
    "        ind.adaptação = sum([int(n)*(2**i) for i, n in enumerate(ind.gene)])\n",
    "    \n",
    "    def geração_0(self):\n",
    "        return [Indivíduo(\"\".join([str(b) for b in np.random.randint(0, 2, (8,))]), nome=\"G0_{}\".format(i))\n",
    "                                                                                          for i in range(10)]\n",
    "    \n",
    "    def __repr__(self):\n",
    "        return \"População de {} indivíduos: {}\".format(self.n, self.indivíduos)\n",
    "    \n",
    "    def __str__(self):\n",
    "        return (\"População de {} indivíduos:\\n\".format(self.n)\n",
    "                + (self.n *\"> {}\\n\").format(*self.indivíduos)\n",
    "                + \"\\n\".join(self.mutações))\n",
    "              \n",
    "Pop = População()\n",
    "Pop.próxima_geração()\n",
    "\n",
    "print(Pop.indivíduos)"
   ]
  },
  {
   "cell_type": "code",
   "execution_count": 45,
   "metadata": {},
   "outputs": [
    {
     "data": {
      "text/plain": [
       "3"
      ]
     },
     "execution_count": 45,
     "metadata": {},
     "output_type": "execute_result"
    }
   ],
   "source": [
    "np.random.randint(8)"
   ]
  },
  {
   "cell_type": "code",
   "execution_count": 36,
   "metadata": {},
   "outputs": [
    {
     "data": {
      "text/plain": [
       "(None, {'a': True})"
      ]
     },
     "execution_count": 36,
     "metadata": {},
     "output_type": "execute_result"
    }
   ],
   "source": []
  },
  {
   "cell_type": "code",
   "execution_count": null,
   "metadata": {},
   "outputs": [],
   "source": []
  }
 ],
 "metadata": {
  "kernelspec": {
   "display_name": "Python 3",
   "language": "python",
   "name": "python3"
  },
  "language_info": {
   "codemirror_mode": {
    "name": "ipython",
    "version": 3
   },
   "file_extension": ".py",
   "mimetype": "text/x-python",
   "name": "python",
   "nbconvert_exporter": "python",
   "pygments_lexer": "ipython3",
   "version": "3.8.2"
  }
 },
 "nbformat": 4,
 "nbformat_minor": 4
}
