{
 "cells": [
  {
   "cell_type": "code",
   "execution_count": 1,
   "metadata": {},
   "outputs": [],
   "source": [
    "import numpy as np\n",
    "\n",
    "%matplotlib inline\n",
    "from matplotlib import pyplot as plt\n",
    "\n",
    "\n",
    "from placa_em_balanço import *"
   ]
  },
  {
   "cell_type": "code",
   "execution_count": null,
   "metadata": {},
   "outputs": [
    {
     "name": "stdout",
     "output_type": "stream",
     "text": [
      ">    0.00000. Começando monitoramento (0.00000)\n",
      ">    0.00105. Elemento construído (0.00105)\n",
      ">    0.00157. Parâmetros iniciais definidos (0.00052)\n",
      ">    0.00605. Matriz de rigidez de emq carregada (0.00448)\n",
      ">    0.80071. Formação da matriz de rigidez geral (0.79466)\n",
      ">    0.80192. Vetores u e f iniciados (0.00121)\n",
      ">    0.91102. Condições de Contorno em u aplicadas (0.10910)\n",
      ">    0.91182. Condições de Contorno em f aplicadas (0.00080)\n",
      ">    0.91258. Delimitação das condições de contorno feitas (0.00076)\n",
      ">    0.99390. Matriz K fatiada onde f é conhecida (0.08132)\n",
      ">    1.51034. ufc obtido resolvendo sistema linear (0.51643)\n",
      ">    1.51435. K multiplicada por u para atualizar f (0.00401)\n",
      "> G0_1 conectado à borda. Adaptação: 2.221538461538462\n",
      "> G0_2 conectado à borda. Adaptação: 1.9767282683093774\n",
      "> G0_3 conectado à borda. Adaptação: 2.0309423347398035\n",
      "> G0_4 conectado à borda. Adaptação: 2.0803918743696874\n",
      "> G0_5 conectado à borda. Adaptação: 2.2147239263803686\n"
     ]
    }
   ],
   "source": [
    "pop = População_de_Projetos()\n",
    "\n",
    "pop.próxima_geração()"
   ]
  },
  {
   "cell_type": "code",
   "execution_count": null,
   "metadata": {},
   "outputs": [],
   "source": [
    "print(pop)"
   ]
  },
  {
   "cell_type": "code",
   "execution_count": null,
   "metadata": {},
   "outputs": [],
   "source": [
    "pop.indivíduos[0].malha.plot()"
   ]
  },
  {
   "cell_type": "code",
   "execution_count": null,
   "metadata": {},
   "outputs": [],
   "source": [
    "plt.imshow(pop.indivíduos[0].gene, cmap=\"hot\")"
   ]
  },
  {
   "cell_type": "code",
   "execution_count": null,
   "metadata": {},
   "outputs": [],
   "source": []
  }
 ],
 "metadata": {
  "kernelspec": {
   "display_name": "Python 3",
   "language": "python",
   "name": "python3"
  },
  "language_info": {
   "codemirror_mode": {
    "name": "ipython",
    "version": 3
   },
   "file_extension": ".py",
   "mimetype": "text/x-python",
   "name": "python",
   "nbconvert_exporter": "python",
   "pygments_lexer": "ipython3",
   "version": "3.6.10"
  }
 },
 "nbformat": 4,
 "nbformat_minor": 4
}
