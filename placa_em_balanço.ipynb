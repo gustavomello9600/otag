{
 "cells": [
  {
   "cell_type": "code",
   "execution_count": 1,
   "metadata": {},
   "outputs": [],
   "source": [
    "import numpy as np\n",
    "from copy import copy\n",
    "from random import choice\n",
    "\n",
    "# Importa os objetos necessários para discretizar o problema \n",
    "from suporte.membrana_quadrada import Nó, Elemento, Malha\n",
    "\n",
    "# Importa a função que retorna os vetores de deslocamento $\\vec{u}$ e o campo \n",
    "# de forças $\\vec{v}$ para uma dada malha, com carga P e refinamento de ordem n\n",
    "from suporte.membrana_quadrada import resolva_para\n",
    "\n",
    "# Importa o objeto base do algoritmo genético\n",
    "from suporte.algoritmo_genético import Indivíduo, População"
   ]
  },
  {
   "cell_type": "code",
   "execution_count": 2,
   "metadata": {},
   "outputs": [],
   "source": [
    "class Projeto(Indivíduo):\n",
    "    \n",
    "    def gerar_id_do_gene(self):\n",
    "        return self.gene.data.tobytes()\n",
    "\n",
    "# Ensina ao Python como trabalhar com Populações de Projetos\n",
    "class População_de_Projetos(População):\n",
    "    \n",
    "    # Ensina a construir os primeiros Indivíduos (Projetos) da População\n",
    "    def geração_0(self):\n",
    "        return [Projeto(np.random.choice((True, False), (38, 76)), \"G0_{}\".format(i))\n",
    "                        for i in range(1, 100 + 1)]\n",
    "        \n",
    "    # Ensina como cruzar os genes dos Indivíduos (Projetos) selecionados para reprodução\n",
    "    def crossover(self, p1, p2, índice):\n",
    "        gene_novo = copy(p1.gene)\n",
    "        \n",
    "        i1, i2, j1, j2 = np.random.randint(1, 37), np.random.randint(1, 37),\\\n",
    "                         np.random.randint(1, 75), np.random.randint(1, 75)\n",
    "        while i1 == i2:\n",
    "            i2 = np.random.randint(1, 37)\n",
    "        while j1 == j2:\n",
    "            j2 = np.random.randint(1, 75)\n",
    "            \n",
    "        i_b, i_c = max([i1, i2]), min([i1, i2])\n",
    "        j_d, j_e = max([j1, j2]), min([j1, j2])\n",
    "        \n",
    "        corte_horizontal = [(0, i_c), (i_c, i_b), (i_b, 76)]\n",
    "        corte_vertical   = [(0, j_e), (j_e, j_d), (j_d, 38)]\n",
    "\n",
    "        blocos = []\n",
    "\n",
    "        while len(blocos) < 3:\n",
    "            bloco = (choice(corte_horizontal), choice(corte_vertical))\n",
    "            if bloco not in blocos:\n",
    "                blocos.append(bloco)\n",
    "                \n",
    "        for bloco in blocos:\n",
    "            ibc, ibb = bloco[0]\n",
    "            jbe, jdd = bloco[1]\n",
    "            \n",
    "            gene_novo[ibc:ibb, jbe:jdd] = p2.gene[ibc:ibb, jbe:jdd]\n",
    "        \n",
    "        return Projeto(gene_novo, \"G{}_{}\".format(self.geração, índice))\n",
    "    \n",
    "    def mutação(self, g):\n",
    "        mutated = False\n",
    "        for i, ind in enumerate(g):\n",
    "            \n",
    "    \n",
    "    def testar_adaptação(self, ind):\n",
    "        ind.adaptação         = ind.gene.sum()\n",
    "        ind.adaptação_testada = True\n",
    "        "
   ]
  },
  {
   "cell_type": "code",
   "execution_count": 3,
   "metadata": {},
   "outputs": [
    {
     "data": {
      "text/plain": [
       "(True, False)"
      ]
     },
     "execution_count": 3,
     "metadata": {},
     "output_type": "execute_result"
    }
   ],
   "source": [
    "import numpy as np\n",
    "\n",
    "d = dict()\n",
    "\n",
    "x = np.array([[1, 0], [0, 1]], dtype=\"bool\")\n",
    "\n",
    "d[x.data.tobytes()] = 3\n",
    "\n",
    "y = np.array([[1, 0], [0, 1]], dtype=\"bool\")\n",
    "\n",
    "d[y.data.tobytes()] == d[x.data.tobytes()], x is y"
   ]
  },
  {
   "cell_type": "code",
   "execution_count": 9,
   "metadata": {},
   "outputs": [
    {
     "data": {
      "text/plain": [
       "Geração 100 de População de 100 indivíduos: [G88_46: 1822.00 (array([[False, ...), G89_5: 1822.00 (array([[False, ...), G90_12: 1822.00 (array([[False, ...), G91_5: 1822.00 (array([[False, ...), G91_7: 1822.00 (array([[False, ...), G91_44: 1822.00 (array([[False, ...), G91_45: 1822.00 (array([[False, ...), G92_4: 1822.00 (array([[False, ...), G92_10: 1822.00 (array([[False, ...), G92_12: 1822.00 (array([[False, ...), G92_23: 1822.00 (array([[False, ...), G92_30: 1822.00 (array([[False, ...), G92_31: 1822.00 (array([[False, ...), G92_32: 1822.00 (array([[False, ...), G92_34: 1822.00 (array([[False, ...), G92_42: 1822.00 (array([[False, ...), G93_2: 1822.00 (array([[False, ...), G93_6: 1822.00 (array([[False, ...), G93_8: 1822.00 (array([[False, ...), G93_9: 1822.00 (array([[False, ...), G93_10: 1822.00 (array([[False, ...), G93_11: 1822.00 (array([[False, ...), G93_13: 1822.00 (array([[False, ...), G93_15: 1822.00 (array([[False, ...), G93_19: 1822.00 (array([[False, ...), G93_20: 1822.00 (array([[False, ...), G93_21: 1822.00 (array([[False, ...), G93_22: 1822.00 (array([[False, ...), G93_26: 1822.00 (array([[False, ...), G93_28: 1822.00 (array([[False, ...), G93_29: 1822.00 (array([[False, ...), G93_31: 1822.00 (array([[False, ...), G93_34: 1822.00 (array([[False, ...), G93_38: 1822.00 (array([[False, ...), G93_47: 1822.00 (array([[False, ...), G94_0: 1822.00 (array([[False, ...), G94_1: 1822.00 (array([[False, ...), G94_3: 1822.00 (array([[False, ...), G94_4: 1822.00 (array([[False, ...), G94_5: 1822.00 (array([[False, ...), G94_6: 1822.00 (array([[False, ...), G94_7: 1822.00 (array([[False, ...), G94_10: 1822.00 (array([[False, ...), G94_12: 1822.00 (array([[False, ...), G94_13: 1822.00 (array([[False, ...), G94_15: 1822.00 (array([[False, ...), G94_16: 1822.00 (array([[False, ...), G94_17: 1822.00 (array([[False, ...), G94_18: 1822.00 (array([[False, ...), G94_20: 1822.00 (array([[False, ...), G100_0: 1822.00 (array([[False, ...), G100_1: 1822.00 (array([[False, ...), G100_2: 1822.00 (array([[False, ...), G100_3: 1822.00 (array([[False, ...), G100_4: 1822.00 (array([[False, ...), G100_5: 1822.00 (array([[False, ...), G100_6: 1822.00 (array([[False, ...), G100_7: 1822.00 (array([[False, ...), G100_8: 1822.00 (array([[False, ...), G100_9: 1822.00 (array([[False, ...), G100_10: 1822.00 (array([[False, ...), G100_11: 1822.00 (array([[False, ...), G100_12: 1822.00 (array([[False, ...), G100_13: 1822.00 (array([[False, ...), G100_14: 1822.00 (array([[False, ...), G100_15: 1822.00 (array([[False, ...), G100_16: 1822.00 (array([[False, ...), G100_17: 1822.00 (array([[False, ...), G100_18: 1822.00 (array([[False, ...), G100_19: 1822.00 (array([[False, ...), G100_20: 1822.00 (array([[False, ...), G100_21: 1822.00 (array([[False, ...), G100_22: 1822.00 (array([[False, ...), G100_23: 1822.00 (array([[False, ...), G100_24: 1822.00 (array([[False, ...), G100_25: 1822.00 (array([[False, ...), G100_26: 1822.00 (array([[False, ...), G100_27: 1822.00 (array([[False, ...), G100_28: 1822.00 (array([[False, ...), G100_29: 1822.00 (array([[False, ...), G100_30: 1822.00 (array([[False, ...), G100_31: 1822.00 (array([[False, ...), G100_32: 1822.00 (array([[False, ...), G100_33: 1822.00 (array([[False, ...), G100_34: 1822.00 (array([[False, ...), G100_35: 1822.00 (array([[False, ...), G100_36: 1822.00 (array([[False, ...), G100_37: 1822.00 (array([[False, ...), G100_38: 1822.00 (array([[False, ...), G100_39: 1822.00 (array([[False, ...), G100_40: 1822.00 (array([[False, ...), G100_41: 1822.00 (array([[False, ...), G100_42: 1822.00 (array([[False, ...), G100_43: 1822.00 (array([[False, ...), G100_44: 1822.00 (array([[False, ...), G100_45: 1822.00 (array([[False, ...), G100_46: 1822.00 (array([[False, ...), G100_47: 1822.00 (array([[False, ...), G100_48: 1822.00 (array([[False, ...), G100_49: 1822.00 (array([[False, ...)]"
      ]
     },
     "execution_count": 9,
     "metadata": {},
     "output_type": "execute_result"
    }
   ],
   "source": [
    "np.random.seed(0)\n",
    "\n",
    "pop = População_de_Projetos()\n",
    "\n",
    "pop.avançar_gerações(100)\n",
    "\n",
    "# Leibe"
   ]
  },
  {
   "cell_type": "code",
   "execution_count": 10,
   "metadata": {},
   "outputs": [
    {
     "name": "stdout",
     "output_type": "stream",
     "text": [
      "População de 100 indivíduos:\n",
      "> G88_46: 1822.00 (array([[False, ...)\n",
      "> G89_5: 1822.00 (array([[False, ...)\n",
      "> G90_12: 1822.00 (array([[False, ...)\n",
      "> G91_5: 1822.00 (array([[False, ...)\n",
      "> G91_7: 1822.00 (array([[False, ...)\n",
      "> G91_44: 1822.00 (array([[False, ...)\n",
      "> G91_45: 1822.00 (array([[False, ...)\n",
      "> G92_4: 1822.00 (array([[False, ...)\n",
      "> G92_10: 1822.00 (array([[False, ...)\n",
      "> G92_12: 1822.00 (array([[False, ...)\n",
      "> G92_23: 1822.00 (array([[False, ...)\n",
      "> G92_30: 1822.00 (array([[False, ...)\n",
      "> G92_31: 1822.00 (array([[False, ...)\n",
      "> G92_32: 1822.00 (array([[False, ...)\n",
      "> G92_34: 1822.00 (array([[False, ...)\n",
      "> G92_42: 1822.00 (array([[False, ...)\n",
      "> G93_2: 1822.00 (array([[False, ...)\n",
      "> G93_6: 1822.00 (array([[False, ...)\n",
      "> G93_8: 1822.00 (array([[False, ...)\n",
      "> G93_9: 1822.00 (array([[False, ...)\n",
      "> G93_10: 1822.00 (array([[False, ...)\n",
      "> G93_11: 1822.00 (array([[False, ...)\n",
      "> G93_13: 1822.00 (array([[False, ...)\n",
      "> G93_15: 1822.00 (array([[False, ...)\n",
      "> G93_19: 1822.00 (array([[False, ...)\n",
      "> G93_20: 1822.00 (array([[False, ...)\n",
      "> G93_21: 1822.00 (array([[False, ...)\n",
      "> G93_22: 1822.00 (array([[False, ...)\n",
      "> G93_26: 1822.00 (array([[False, ...)\n",
      "> G93_28: 1822.00 (array([[False, ...)\n",
      "> G93_29: 1822.00 (array([[False, ...)\n",
      "> G93_31: 1822.00 (array([[False, ...)\n",
      "> G93_34: 1822.00 (array([[False, ...)\n",
      "> G93_38: 1822.00 (array([[False, ...)\n",
      "> G93_47: 1822.00 (array([[False, ...)\n",
      "> G94_0: 1822.00 (array([[False, ...)\n",
      "> G94_1: 1822.00 (array([[False, ...)\n",
      "> G94_3: 1822.00 (array([[False, ...)\n",
      "> G94_4: 1822.00 (array([[False, ...)\n",
      "> G94_5: 1822.00 (array([[False, ...)\n",
      "> G94_6: 1822.00 (array([[False, ...)\n",
      "> G94_7: 1822.00 (array([[False, ...)\n",
      "> G94_10: 1822.00 (array([[False, ...)\n",
      "> G94_12: 1822.00 (array([[False, ...)\n",
      "> G94_13: 1822.00 (array([[False, ...)\n",
      "> G94_15: 1822.00 (array([[False, ...)\n",
      "> G94_16: 1822.00 (array([[False, ...)\n",
      "> G94_17: 1822.00 (array([[False, ...)\n",
      "> G94_18: 1822.00 (array([[False, ...)\n",
      "> G94_20: 1822.00 (array([[False, ...)\n",
      "> G100_0: 1822.00 (array([[False, ...)\n",
      "> G100_1: 1822.00 (array([[False, ...)\n",
      "> G100_2: 1822.00 (array([[False, ...)\n",
      "> G100_3: 1822.00 (array([[False, ...)\n",
      "> G100_4: 1822.00 (array([[False, ...)\n",
      "> G100_5: 1822.00 (array([[False, ...)\n",
      "> G100_6: 1822.00 (array([[False, ...)\n",
      "> G100_7: 1822.00 (array([[False, ...)\n",
      "> G100_8: 1822.00 (array([[False, ...)\n",
      "> G100_9: 1822.00 (array([[False, ...)\n",
      "> G100_10: 1822.00 (array([[False, ...)\n",
      "> G100_11: 1822.00 (array([[False, ...)\n",
      "> G100_12: 1822.00 (array([[False, ...)\n",
      "> G100_13: 1822.00 (array([[False, ...)\n",
      "> G100_14: 1822.00 (array([[False, ...)\n",
      "> G100_15: 1822.00 (array([[False, ...)\n",
      "> G100_16: 1822.00 (array([[False, ...)\n",
      "> G100_17: 1822.00 (array([[False, ...)\n",
      "> G100_18: 1822.00 (array([[False, ...)\n",
      "> G100_19: 1822.00 (array([[False, ...)\n",
      "> G100_20: 1822.00 (array([[False, ...)\n",
      "> G100_21: 1822.00 (array([[False, ...)\n",
      "> G100_22: 1822.00 (array([[False, ...)\n",
      "> G100_23: 1822.00 (array([[False, ...)\n",
      "> G100_24: 1822.00 (array([[False, ...)\n",
      "> G100_25: 1822.00 (array([[False, ...)\n",
      "> G100_26: 1822.00 (array([[False, ...)\n",
      "> G100_27: 1822.00 (array([[False, ...)\n",
      "> G100_28: 1822.00 (array([[False, ...)\n",
      "> G100_29: 1822.00 (array([[False, ...)\n",
      "> G100_30: 1822.00 (array([[False, ...)\n",
      "> G100_31: 1822.00 (array([[False, ...)\n",
      "> G100_32: 1822.00 (array([[False, ...)\n",
      "> G100_33: 1822.00 (array([[False, ...)\n",
      "> G100_34: 1822.00 (array([[False, ...)\n",
      "> G100_35: 1822.00 (array([[False, ...)\n",
      "> G100_36: 1822.00 (array([[False, ...)\n",
      "> G100_37: 1822.00 (array([[False, ...)\n",
      "> G100_38: 1822.00 (array([[False, ...)\n",
      "> G100_39: 1822.00 (array([[False, ...)\n",
      "> G100_40: 1822.00 (array([[False, ...)\n",
      "> G100_41: 1822.00 (array([[False, ...)\n",
      "> G100_42: 1822.00 (array([[False, ...)\n",
      "> G100_43: 1822.00 (array([[False, ...)\n",
      "> G100_44: 1822.00 (array([[False, ...)\n",
      "> G100_45: 1822.00 (array([[False, ...)\n",
      "> G100_46: 1822.00 (array([[False, ...)\n",
      "> G100_47: 1822.00 (array([[False, ...)\n",
      "> G100_48: 1822.00 (array([[False, ...)\n",
      "> G100_49: 1822.00 (array([[False, ...)\n",
      "---------Mutações---------\n",
      "\n"
     ]
    }
   ],
   "source": [
    "print(pop)"
   ]
  },
  {
   "cell_type": "code",
   "execution_count": 6,
   "metadata": {},
   "outputs": [
    {
     "data": {
      "text/plain": [
       "(array([[1, 0, 0, 1, 0, 0, 0, 0, 0, 0],\n",
       "        [0, 1, 1, 0, 1, 1, 1, 1, 1, 0],\n",
       "        [1, 0, 0, 1, 1, 0, 0, 0, 0, 1],\n",
       "        [0, 1, 0, 1, 0, 0, 1, 0, 0, 1],\n",
       "        [1, 0, 1, 0, 0, 0, 0, 0, 1, 0],\n",
       "        [1, 0, 0, 0, 0, 1, 0, 1, 1, 0],\n",
       "        [0, 1, 0, 1, 0, 1, 1, 1, 1, 1],\n",
       "        [0, 0, 1, 1, 1, 0, 0, 1, 0, 1],\n",
       "        [1, 0, 1, 0, 0, 0, 0, 0, 0, 1],\n",
       "        [0, 0, 1, 1, 0, 1, 1, 0, 0, 1]]),\n",
       " array([[0, 0, 0, 1, 0, 0, 0, 0, 0, 0],\n",
       "        [0, 1, 1, 0, 1, 1, 1, 1, 1, 0],\n",
       "        [1, 0, 0, 1, 1, 0, 0, 0, 0, 1],\n",
       "        [0, 1, 0, 1, 0, 0, 1, 0, 0, 1],\n",
       "        [1, 0, 1, 0, 0, 0, 0, 0, 1, 0],\n",
       "        [1, 0, 0, 0, 0, 1, 0, 1, 1, 0],\n",
       "        [0, 1, 0, 1, 0, 1, 1, 1, 1, 1],\n",
       "        [0, 0, 1, 1, 1, 0, 0, 1, 0, 1],\n",
       "        [1, 0, 1, 0, 0, 0, 0, 0, 0, 1],\n",
       "        [0, 0, 1, 1, 0, 1, 1, 0, 0, 1]]))"
      ]
     },
     "execution_count": 6,
     "metadata": {},
     "output_type": "execute_result"
    }
   ],
   "source": [
    "np.random.seed(0)\n",
    "\n",
    "gene_de_1 = np.random.choice([True, False], (10, 10))\n",
    "\n",
    "gene_novo = copy(gene_de_1)\n",
    "\n",
    "gene_novo[0][0] = 0\n",
    "\n",
    "gene_de_1.astype(int), gene_novo.astype(int)"
   ]
  },
  {
   "cell_type": "code",
   "execution_count": 7,
   "metadata": {},
   "outputs": [
    {
     "data": {
      "text/plain": [
       "2"
      ]
     },
     "execution_count": 7,
     "metadata": {},
     "output_type": "execute_result"
    }
   ],
   "source": [
    "np.random.choice([1, 2, 3])"
   ]
  },
  {
   "cell_type": "code",
   "execution_count": 8,
   "metadata": {},
   "outputs": [
    {
     "data": {
      "text/plain": [
       "3"
      ]
     },
     "execution_count": 8,
     "metadata": {},
     "output_type": "execute_result"
    }
   ],
   "source": [
    "np.array([[True, True], [False, True]], dtype=\"bool\").sum()"
   ]
  },
  {
   "cell_type": "code",
   "execution_count": null,
   "metadata": {},
   "outputs": [],
   "source": []
  }
 ],
 "metadata": {
  "kernelspec": {
   "display_name": "Python 3",
   "language": "python",
   "name": "python3"
  },
  "language_info": {
   "codemirror_mode": {
    "name": "ipython",
    "version": 3
   },
   "file_extension": ".py",
   "mimetype": "text/x-python",
   "name": "python",
   "nbconvert_exporter": "python",
   "pygments_lexer": "ipython3",
   "version": "3.6.10"
  }
 },
 "nbformat": 4,
 "nbformat_minor": 4
}
