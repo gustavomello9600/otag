{
 "cells": [
  {
   "cell_type": "code",
   "execution_count": null,
   "metadata": {},
   "outputs": [],
   "source": [
    "# Importa os objetos necessários para discretizar o problema \n",
    "from suporte.membrana_quadrada import Nó, Elemento, Malha\n",
    "\n",
    "# Importa a função que retorna os vetores de deslocamento $\\vec{u}$ e o campo \n",
    "# de forças $\\vec{v}$ para uma dada malha, com carga P e refinamento de ordem n\n",
    "from suporte.membrana_quadrada import resolver_para\n",
    "\n",
    "# Importa os objetos necessários à implementação\n",
    "from suporte.algoritmo_genético"
   ]
  }
 ],
 "metadata": {
  "kernelspec": {
   "display_name": "Python 3",
   "language": "python",
   "name": "python3"
  },
  "language_info": {
   "codemirror_mode": {
    "name": "ipython",
    "version": 3
   },
   "file_extension": ".py",
   "mimetype": "text/x-python",
   "name": "python",
   "nbconvert_exporter": "python",
   "pygments_lexer": "ipython3",
   "version": "3.8.2"
  }
 },
 "nbformat": 4,
 "nbformat_minor": 4
}
